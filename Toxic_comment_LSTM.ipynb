{
  "nbformat": 4,
  "nbformat_minor": 0,
  "metadata": {
    "colab": {
      "name": "Toxic_comment_LSTM",
      "provenance": [],
      "collapsed_sections": [],
      "mount_file_id": "1LgV4Wxkkv2l9XELpfW8sQ8I7d57QGSnz",
      "authorship_tag": "ABX9TyM9KsclPfWHrDhg/l+cPykq"
    },
    "kernelspec": {
      "name": "python3",
      "display_name": "Python 3"
    },
    "language_info": {
      "name": "python"
    }
  },
  "cells": [
    {
      "cell_type": "markdown",
      "source": [
        "KAGGLE ACTIVATION"
      ],
      "metadata": {
        "id": "ek-_TKG0630-"
      }
    },
    {
      "cell_type": "code",
      "execution_count": 2,
      "metadata": {
        "colab": {
          "base_uri": "https://localhost:8080/"
        },
        "id": "mE7DsG076eI8",
        "outputId": "1c190c99-95ca-48f4-8f34-f6cfb5dac69e"
      },
      "outputs": [
        {
          "output_type": "stream",
          "name": "stdout",
          "text": [
            "Looking in indexes: https://pypi.org/simple, https://us-python.pkg.dev/colab-wheels/public/simple/\n",
            "Requirement already satisfied: kaggle in /usr/local/lib/python3.7/dist-packages (1.5.12)\n",
            "Requirement already satisfied: urllib3 in /usr/local/lib/python3.7/dist-packages (from kaggle) (1.24.3)\n",
            "Requirement already satisfied: python-slugify in /usr/local/lib/python3.7/dist-packages (from kaggle) (6.1.2)\n",
            "Requirement already satisfied: python-dateutil in /usr/local/lib/python3.7/dist-packages (from kaggle) (2.8.2)\n",
            "Requirement already satisfied: six>=1.10 in /usr/local/lib/python3.7/dist-packages (from kaggle) (1.15.0)\n",
            "Requirement already satisfied: certifi in /usr/local/lib/python3.7/dist-packages (from kaggle) (2022.6.15)\n",
            "Requirement already satisfied: requests in /usr/local/lib/python3.7/dist-packages (from kaggle) (2.23.0)\n",
            "Requirement already satisfied: tqdm in /usr/local/lib/python3.7/dist-packages (from kaggle) (4.64.0)\n",
            "Requirement already satisfied: text-unidecode>=1.3 in /usr/local/lib/python3.7/dist-packages (from python-slugify->kaggle) (1.3)\n",
            "Requirement already satisfied: chardet<4,>=3.0.2 in /usr/local/lib/python3.7/dist-packages (from requests->kaggle) (3.0.4)\n",
            "Requirement already satisfied: idna<3,>=2.5 in /usr/local/lib/python3.7/dist-packages (from requests->kaggle) (2.10)\n",
            "mkdir: cannot create directory ‘/root/.kaggle’: File exists\n"
          ]
        }
      ],
      "source": [
        "! pip install kaggle\n",
        "! mkdir ~/.kaggle\n",
        "! cp kaggle.json ~/.kaggle/\n",
        "! chmod 600 ~/.kaggle/kaggle.json"
      ]
    },
    {
      "cell_type": "markdown",
      "source": [
        "GET DATA FROM KAGGLE AND STANDFORD"
      ],
      "metadata": {
        "id": "SY0NH4EbC6j4"
      }
    },
    {
      "cell_type": "code",
      "source": [
        "!kaggle competitions download -c jigsaw-toxic-comment-classification-challenge"
      ],
      "metadata": {
        "colab": {
          "base_uri": "https://localhost:8080/"
        },
        "id": "c4RQvGtX61_-",
        "outputId": "898c5b1f-ae9a-4ce2-a19b-1cf5f86b8812"
      },
      "execution_count": 3,
      "outputs": [
        {
          "output_type": "stream",
          "name": "stdout",
          "text": [
            "Downloading jigsaw-toxic-comment-classification-challenge.zip to /content\n",
            " 95% 50.0M/52.6M [00:00<00:00, 62.2MB/s]\n",
            "100% 52.6M/52.6M [00:00<00:00, 58.7MB/s]\n"
          ]
        }
      ]
    },
    {
      "cell_type": "code",
      "source": [
        "!wget https://nlp.stanford.edu/data/glove.6B.zip"
      ],
      "metadata": {
        "colab": {
          "base_uri": "https://localhost:8080/"
        },
        "id": "_9o1_LBj8WBb",
        "outputId": "f0604f57-0ce3-4f97-8e05-67a3ab56ce0f"
      },
      "execution_count": null,
      "outputs": [
        {
          "output_type": "stream",
          "name": "stdout",
          "text": [
            "--2022-08-06 16:18:33--  https://nlp.stanford.edu/data/glove.6B.zip\n",
            "Resolving nlp.stanford.edu (nlp.stanford.edu)... 171.64.67.140\n",
            "Connecting to nlp.stanford.edu (nlp.stanford.edu)|171.64.67.140|:443... connected.\n",
            "HTTP request sent, awaiting response... 301 Moved Permanently\n",
            "Location: https://downloads.cs.stanford.edu/nlp/data/glove.6B.zip [following]\n",
            "--2022-08-06 16:18:33--  https://downloads.cs.stanford.edu/nlp/data/glove.6B.zip\n",
            "Resolving downloads.cs.stanford.edu (downloads.cs.stanford.edu)... 171.64.64.22\n",
            "Connecting to downloads.cs.stanford.edu (downloads.cs.stanford.edu)|171.64.64.22|:443... connected.\n",
            "HTTP request sent, awaiting response... 200 OK\n",
            "Length: 862182613 (822M) [application/zip]\n",
            "Saving to: ‘glove.6B.zip’\n",
            "\n",
            "glove.6B.zip        100%[===================>] 822.24M  5.06MB/s    in 2m 39s  \n",
            "\n",
            "2022-08-06 16:21:12 (5.18 MB/s) - ‘glove.6B.zip’ saved [862182613/862182613]\n",
            "\n"
          ]
        }
      ]
    },
    {
      "cell_type": "code",
      "source": [
        "! unzip jigsaw-toxic-comment-classification-challenge.zip\n",
        "! unzip train.csv.zip"
      ],
      "metadata": {
        "colab": {
          "base_uri": "https://localhost:8080/"
        },
        "id": "fembMXIy63eH",
        "outputId": "a9474bb6-a00e-4937-944e-5d70c2cecd87"
      },
      "execution_count": 4,
      "outputs": [
        {
          "output_type": "stream",
          "name": "stdout",
          "text": [
            "Archive:  jigsaw-toxic-comment-classification-challenge.zip\n",
            "  inflating: sample_submission.csv.zip  \n",
            "  inflating: test.csv.zip            \n",
            "  inflating: test_labels.csv.zip     \n",
            "  inflating: train.csv.zip           \n",
            "Archive:  train.csv.zip\n",
            "  inflating: train.csv               \n"
          ]
        }
      ]
    },
    {
      "cell_type": "code",
      "source": [
        "n! unzip glove.6B"
      ],
      "metadata": {
        "colab": {
          "base_uri": "https://localhost:8080/"
        },
        "id": "HPe5EZCG77Jl",
        "outputId": "fc4abbdb-8f69-4060-c9c9-d8225f9c20ea"
      },
      "execution_count": null,
      "outputs": [
        {
          "output_type": "stream",
          "name": "stdout",
          "text": [
            "Archive:  glove.6B.zip\n",
            "  End-of-central-directory signature not found.  Either this file is not\n",
            "  a zipfile, or it constitutes one disk of a multi-part archive.  In the\n",
            "  latter case the central directory and zipfile comment will be found on\n",
            "  the last disk(s) of this archive.\n",
            "unzip:  cannot find zipfile directory in one of glove.6B or\n",
            "        glove.6B.zip, and cannot find glove.6B.ZIP, period.\n"
          ]
        }
      ]
    },
    {
      "cell_type": "markdown",
      "source": [
        "IMPORTS"
      ],
      "metadata": {
        "id": "x8HyRe8TEqQ8"
      }
    },
    {
      "cell_type": "code",
      "source": [
        "import os\n",
        "import sys\n",
        "import numpy as np\n",
        "import pandas as pd\n",
        "import matplotlib.pyplot as plt\n",
        "import seaborn as sns\n",
        "from keras.preprocessing.text import Tokenizer\n",
        "from keras.preprocessing.sequence import pad_sequences\n",
        "from keras.layers import Input, Dense, GlobalMaxPooling1D, LSTM, Embedding, Bidirectional\n",
        "from keras.models import Model\n",
        "from sklearn.metrics import roc_auc_score\n",
        "#area under score is useful for binary classification"
      ],
      "metadata": {
        "id": "Q2KGV8F8DFce"
      },
      "execution_count": 6,
      "outputs": []
    },
    {
      "cell_type": "markdown",
      "source": [
        "GLOBAL VARIABLES"
      ],
      "metadata": {
        "id": "8AQ0MPgbEsn8"
      }
    },
    {
      "cell_type": "code",
      "source": [
        "MAX_SEQUENCE_LEN = 100\n",
        "MAX_VOCAB_SIZE = 20000\n",
        "EMBEDDING_DIM = 100\n",
        "VALIDATION_SPLIT = 0.2\n",
        "BATCH_SIZE = 128\n",
        "EPOCHS = 10"
      ],
      "metadata": {
        "id": "sJ0YeO9vEhvX"
      },
      "execution_count": 7,
      "outputs": []
    },
    {
      "cell_type": "code",
      "source": [
        "word2vec = dict()\n",
        "control = 1\n",
        "with open(f'/content/drive/MyDrive/Colab Exercises/glove.6B.{EMBEDDING_DIM}d.txt') as f:\n",
        "  for line in f:\n",
        "    values = line.split()\n",
        "    word = values[0]\n",
        "    vec = np.asarray(values[1:], dtype=np.float32)\n",
        "    word2vec[word] = vec\n",
        "    if control:\n",
        "      print(f'Line : {line}')\n",
        "      print(f'Word : {word}')\n",
        "      print(f'Vec  : {vec}')\n",
        "      control = 0\n",
        "print(f'Found {len(word2vec)} word in the document')"
      ],
      "metadata": {
        "id": "WauPFFWmFm18",
        "colab": {
          "base_uri": "https://localhost:8080/"
        },
        "outputId": "b284ecd1-5a71-40d0-f743-9f5309d60872"
      },
      "execution_count": 9,
      "outputs": [
        {
          "output_type": "stream",
          "name": "stdout",
          "text": [
            "Line : the -0.038194 -0.24487 0.72812 -0.39961 0.083172 0.043953 -0.39141 0.3344 -0.57545 0.087459 0.28787 -0.06731 0.30906 -0.26384 -0.13231 -0.20757 0.33395 -0.33848 -0.31743 -0.48336 0.1464 -0.37304 0.34577 0.052041 0.44946 -0.46971 0.02628 -0.54155 -0.15518 -0.14107 -0.039722 0.28277 0.14393 0.23464 -0.31021 0.086173 0.20397 0.52624 0.17164 -0.082378 -0.71787 -0.41531 0.20335 -0.12763 0.41367 0.55187 0.57908 -0.33477 -0.36559 -0.54857 -0.062892 0.26584 0.30205 0.99775 -0.80481 -3.0243 0.01254 -0.36942 2.2167 0.72201 -0.24978 0.92136 0.034514 0.46745 1.1079 -0.19358 -0.074575 0.23353 -0.052062 -0.22044 0.057162 -0.15806 -0.30798 -0.41625 0.37972 0.15006 -0.53212 -0.2055 -1.2526 0.071624 0.70565 0.49744 -0.42063 0.26148 -1.538 -0.30223 -0.073438 -0.28312 0.37104 -0.25217 0.016215 -0.017099 -0.38984 0.87424 -0.72569 -0.51058 -0.52028 -0.1459 0.8278 0.27062\n",
            "\n",
            "Word : the\n",
            "Vec  : [-0.038194 -0.24487   0.72812  -0.39961   0.083172  0.043953 -0.39141\n",
            "  0.3344   -0.57545   0.087459  0.28787  -0.06731   0.30906  -0.26384\n",
            " -0.13231  -0.20757   0.33395  -0.33848  -0.31743  -0.48336   0.1464\n",
            " -0.37304   0.34577   0.052041  0.44946  -0.46971   0.02628  -0.54155\n",
            " -0.15518  -0.14107  -0.039722  0.28277   0.14393   0.23464  -0.31021\n",
            "  0.086173  0.20397   0.52624   0.17164  -0.082378 -0.71787  -0.41531\n",
            "  0.20335  -0.12763   0.41367   0.55187   0.57908  -0.33477  -0.36559\n",
            " -0.54857  -0.062892  0.26584   0.30205   0.99775  -0.80481  -3.0243\n",
            "  0.01254  -0.36942   2.2167    0.72201  -0.24978   0.92136   0.034514\n",
            "  0.46745   1.1079   -0.19358  -0.074575  0.23353  -0.052062 -0.22044\n",
            "  0.057162 -0.15806  -0.30798  -0.41625   0.37972   0.15006  -0.53212\n",
            " -0.2055   -1.2526    0.071624  0.70565   0.49744  -0.42063   0.26148\n",
            " -1.538    -0.30223  -0.073438 -0.28312   0.37104  -0.25217   0.016215\n",
            " -0.017099 -0.38984   0.87424  -0.72569  -0.51058  -0.52028  -0.1459\n",
            "  0.8278    0.27062 ]\n",
            "Found 400000 word in the document\n"
          ]
        }
      ]
    },
    {
      "cell_type": "code",
      "source": [
        "train = pd.read_csv('train.csv')\n",
        "train.sample(4)"
      ],
      "metadata": {
        "colab": {
          "base_uri": "https://localhost:8080/",
          "height": 175
        },
        "id": "qGSn8lzuHGqq",
        "outputId": "b4ed3310-c3bb-4892-9a6f-875cacfd807d"
      },
      "execution_count": 10,
      "outputs": [
        {
          "output_type": "execute_result",
          "data": {
            "text/plain": [
              "                      id                                       comment_text  \\\n",
              "74707   c7d7e91da1afd67f               Can we get this page unlocked, then?   \n",
              "18313   305b3ee7e7771b7d                           Pic of the day Wednesday   \n",
              "118100  76e06e34d809590d                             00:20, 2 February 2006   \n",
              "140284  ee9ce469ea159a1c  At the time of recapture, Ryan had no reason t...   \n",
              "\n",
              "        toxic  severe_toxic  obscene  threat  insult  identity_hate  \n",
              "74707       0             0        0       0       0              0  \n",
              "18313       0             0        0       0       0              0  \n",
              "118100      0             0        0       0       0              0  \n",
              "140284      0             0        0       0       0              0  "
            ],
            "text/html": [
              "\n",
              "  <div id=\"df-f172c2e8-cd09-43d6-989c-89d66b0dee7f\">\n",
              "    <div class=\"colab-df-container\">\n",
              "      <div>\n",
              "<style scoped>\n",
              "    .dataframe tbody tr th:only-of-type {\n",
              "        vertical-align: middle;\n",
              "    }\n",
              "\n",
              "    .dataframe tbody tr th {\n",
              "        vertical-align: top;\n",
              "    }\n",
              "\n",
              "    .dataframe thead th {\n",
              "        text-align: right;\n",
              "    }\n",
              "</style>\n",
              "<table border=\"1\" class=\"dataframe\">\n",
              "  <thead>\n",
              "    <tr style=\"text-align: right;\">\n",
              "      <th></th>\n",
              "      <th>id</th>\n",
              "      <th>comment_text</th>\n",
              "      <th>toxic</th>\n",
              "      <th>severe_toxic</th>\n",
              "      <th>obscene</th>\n",
              "      <th>threat</th>\n",
              "      <th>insult</th>\n",
              "      <th>identity_hate</th>\n",
              "    </tr>\n",
              "  </thead>\n",
              "  <tbody>\n",
              "    <tr>\n",
              "      <th>74707</th>\n",
              "      <td>c7d7e91da1afd67f</td>\n",
              "      <td>Can we get this page unlocked, then?</td>\n",
              "      <td>0</td>\n",
              "      <td>0</td>\n",
              "      <td>0</td>\n",
              "      <td>0</td>\n",
              "      <td>0</td>\n",
              "      <td>0</td>\n",
              "    </tr>\n",
              "    <tr>\n",
              "      <th>18313</th>\n",
              "      <td>305b3ee7e7771b7d</td>\n",
              "      <td>Pic of the day Wednesday</td>\n",
              "      <td>0</td>\n",
              "      <td>0</td>\n",
              "      <td>0</td>\n",
              "      <td>0</td>\n",
              "      <td>0</td>\n",
              "      <td>0</td>\n",
              "    </tr>\n",
              "    <tr>\n",
              "      <th>118100</th>\n",
              "      <td>76e06e34d809590d</td>\n",
              "      <td>00:20, 2 February 2006</td>\n",
              "      <td>0</td>\n",
              "      <td>0</td>\n",
              "      <td>0</td>\n",
              "      <td>0</td>\n",
              "      <td>0</td>\n",
              "      <td>0</td>\n",
              "    </tr>\n",
              "    <tr>\n",
              "      <th>140284</th>\n",
              "      <td>ee9ce469ea159a1c</td>\n",
              "      <td>At the time of recapture, Ryan had no reason t...</td>\n",
              "      <td>0</td>\n",
              "      <td>0</td>\n",
              "      <td>0</td>\n",
              "      <td>0</td>\n",
              "      <td>0</td>\n",
              "      <td>0</td>\n",
              "    </tr>\n",
              "  </tbody>\n",
              "</table>\n",
              "</div>\n",
              "      <button class=\"colab-df-convert\" onclick=\"convertToInteractive('df-f172c2e8-cd09-43d6-989c-89d66b0dee7f')\"\n",
              "              title=\"Convert this dataframe to an interactive table.\"\n",
              "              style=\"display:none;\">\n",
              "        \n",
              "  <svg xmlns=\"http://www.w3.org/2000/svg\" height=\"24px\"viewBox=\"0 0 24 24\"\n",
              "       width=\"24px\">\n",
              "    <path d=\"M0 0h24v24H0V0z\" fill=\"none\"/>\n",
              "    <path d=\"M18.56 5.44l.94 2.06.94-2.06 2.06-.94-2.06-.94-.94-2.06-.94 2.06-2.06.94zm-11 1L8.5 8.5l.94-2.06 2.06-.94-2.06-.94L8.5 2.5l-.94 2.06-2.06.94zm10 10l.94 2.06.94-2.06 2.06-.94-2.06-.94-.94-2.06-.94 2.06-2.06.94z\"/><path d=\"M17.41 7.96l-1.37-1.37c-.4-.4-.92-.59-1.43-.59-.52 0-1.04.2-1.43.59L10.3 9.45l-7.72 7.72c-.78.78-.78 2.05 0 2.83L4 21.41c.39.39.9.59 1.41.59.51 0 1.02-.2 1.41-.59l7.78-7.78 2.81-2.81c.8-.78.8-2.07 0-2.86zM5.41 20L4 18.59l7.72-7.72 1.47 1.35L5.41 20z\"/>\n",
              "  </svg>\n",
              "      </button>\n",
              "      \n",
              "  <style>\n",
              "    .colab-df-container {\n",
              "      display:flex;\n",
              "      flex-wrap:wrap;\n",
              "      gap: 12px;\n",
              "    }\n",
              "\n",
              "    .colab-df-convert {\n",
              "      background-color: #E8F0FE;\n",
              "      border: none;\n",
              "      border-radius: 50%;\n",
              "      cursor: pointer;\n",
              "      display: none;\n",
              "      fill: #1967D2;\n",
              "      height: 32px;\n",
              "      padding: 0 0 0 0;\n",
              "      width: 32px;\n",
              "    }\n",
              "\n",
              "    .colab-df-convert:hover {\n",
              "      background-color: #E2EBFA;\n",
              "      box-shadow: 0px 1px 2px rgba(60, 64, 67, 0.3), 0px 1px 3px 1px rgba(60, 64, 67, 0.15);\n",
              "      fill: #174EA6;\n",
              "    }\n",
              "\n",
              "    [theme=dark] .colab-df-convert {\n",
              "      background-color: #3B4455;\n",
              "      fill: #D2E3FC;\n",
              "    }\n",
              "\n",
              "    [theme=dark] .colab-df-convert:hover {\n",
              "      background-color: #434B5C;\n",
              "      box-shadow: 0px 1px 3px 1px rgba(0, 0, 0, 0.15);\n",
              "      filter: drop-shadow(0px 1px 2px rgba(0, 0, 0, 0.3));\n",
              "      fill: #FFFFFF;\n",
              "    }\n",
              "  </style>\n",
              "\n",
              "      <script>\n",
              "        const buttonEl =\n",
              "          document.querySelector('#df-f172c2e8-cd09-43d6-989c-89d66b0dee7f button.colab-df-convert');\n",
              "        buttonEl.style.display =\n",
              "          google.colab.kernel.accessAllowed ? 'block' : 'none';\n",
              "\n",
              "        async function convertToInteractive(key) {\n",
              "          const element = document.querySelector('#df-f172c2e8-cd09-43d6-989c-89d66b0dee7f');\n",
              "          const dataTable =\n",
              "            await google.colab.kernel.invokeFunction('convertToInteractive',\n",
              "                                                     [key], {});\n",
              "          if (!dataTable) return;\n",
              "\n",
              "          const docLinkHtml = 'Like what you see? Visit the ' +\n",
              "            '<a target=\"_blank\" href=https://colab.research.google.com/notebooks/data_table.ipynb>data table notebook</a>'\n",
              "            + ' to learn more about interactive tables.';\n",
              "          element.innerHTML = '';\n",
              "          dataTable['output_type'] = 'display_data';\n",
              "          await google.colab.output.renderOutput(dataTable, element);\n",
              "          const docLink = document.createElement('div');\n",
              "          docLink.innerHTML = docLinkHtml;\n",
              "          element.appendChild(docLink);\n",
              "        }\n",
              "      </script>\n",
              "    </div>\n",
              "  </div>\n",
              "  "
            ]
          },
          "metadata": {},
          "execution_count": 10
        }
      ]
    },
    {
      "cell_type": "code",
      "source": [
        "print(f'Check if null values exists:\\n{train.isnull().sum()}')\n",
        "print(f'Check if na values exists:\\n{train.isna().sum()}')"
      ],
      "metadata": {
        "colab": {
          "base_uri": "https://localhost:8080/"
        },
        "id": "xmGYo7FIHIUI",
        "outputId": "5ae529c0-5a65-4cce-d564-6e03b173fb26"
      },
      "execution_count": 11,
      "outputs": [
        {
          "output_type": "stream",
          "name": "stdout",
          "text": [
            "Check if null values exists:\n",
            "id               0\n",
            "comment_text     0\n",
            "toxic            0\n",
            "severe_toxic     0\n",
            "obscene          0\n",
            "threat           0\n",
            "insult           0\n",
            "identity_hate    0\n",
            "dtype: int64\n",
            "Check if na values exists:\n",
            "id               0\n",
            "comment_text     0\n",
            "toxic            0\n",
            "severe_toxic     0\n",
            "obscene          0\n",
            "threat           0\n",
            "insult           0\n",
            "identity_hate    0\n",
            "dtype: int64\n"
          ]
        }
      ]
    },
    {
      "cell_type": "code",
      "source": [
        "sentences = train['comment_text'].values\n",
        "labels = ['toxic', 'severe_toxic',\t'obscene','threat',\t'insult',\t'identity_hate']\n",
        "targets = train[labels].values\n",
        "print(f'Shape of target is {targets.shape}')"
      ],
      "metadata": {
        "id": "5HfrXZRMJQrq",
        "colab": {
          "base_uri": "https://localhost:8080/"
        },
        "outputId": "99f855e1-c3fb-4241-979d-07097113f763"
      },
      "execution_count": 12,
      "outputs": [
        {
          "output_type": "stream",
          "name": "stdout",
          "text": [
            "Shape of target is (159571, 6)\n"
          ]
        }
      ]
    },
    {
      "cell_type": "code",
      "source": [
        "lenghtArray = np.sort( np.array([len(s) for s in sentences]) )\n",
        "mean = lenghtArray.sum()/len(lenghtArray)\n",
        "print(f'Minimum lenght of sentences is {np.min(lenghtArray)}')\n",
        "print(f'Maximum lenght of sentences is {np.max(lenghtArray)}')\n",
        "print(f'Mean lenght of sentences is { mean }')\n",
        "print(f'Approximate median lenght of sentences is {lenghtArray[len(lenghtArray)//2]}')\n",
        "plt.axvline(mean, 0.85,0,label=f'Mean')\n",
        "sns.distplot(lenghtArray, color = 'red')"
      ],
      "metadata": {
        "colab": {
          "base_uri": "https://localhost:8080/",
          "height": 406
        },
        "id": "feCX40yFXkQH",
        "outputId": "3ec8ebb3-f5c0-457c-924f-ba387cf25b35"
      },
      "execution_count": 14,
      "outputs": [
        {
          "output_type": "stream",
          "name": "stdout",
          "text": [
            "Minimum lenght of sentences is 6\n",
            "Maximum lenght of sentences is 5000\n",
            "Mean lenght of sentences is 394.0732213246768\n",
            "Approximate median lenght of sentences is 205\n"
          ]
        },
        {
          "output_type": "stream",
          "name": "stderr",
          "text": [
            "/usr/local/lib/python3.7/dist-packages/seaborn/distributions.py:2619: FutureWarning: `distplot` is a deprecated function and will be removed in a future version. Please adapt your code to use either `displot` (a figure-level function with similar flexibility) or `histplot` (an axes-level function for histograms).\n",
            "  warnings.warn(msg, FutureWarning)\n"
          ]
        },
        {
          "output_type": "execute_result",
          "data": {
            "text/plain": [
              "<matplotlib.axes._subplots.AxesSubplot at 0x7fca2f644e50>"
            ]
          },
          "metadata": {},
          "execution_count": 14
        },
        {
          "output_type": "display_data",
          "data": {
            "text/plain": [
              "<Figure size 432x288 with 1 Axes>"
            ],
            "image/png": "[encoded data removed]"
          },
          "metadata": {
            "needs_background": "light"
          }
        }
      ]
    },
    {
      "cell_type": "code",
      "source": [
        "tokenizer = Tokenizer(num_words = MAX_VOCAB_SIZE)\n",
        "tokenizer.fit_on_texts(sentences)\n",
        "sequences = tokenizer.texts_to_sequences(sentences)"
      ],
      "metadata": {
        "id": "gibgBT0GnHxv"
      },
      "execution_count": 15,
      "outputs": []
    },
    {
      "cell_type": "code",
      "source": [
        "word2idx = tokenizer.word_index\n",
        "print(f'Len of word2idx is {len(word2idx)}')"
      ],
      "metadata": {
        "id": "LOhmY6win4rG",
        "colab": {
          "base_uri": "https://localhost:8080/"
        },
        "outputId": "70a94490-df65-4046-ca8e-512d17a5951b"
      },
      "execution_count": 16,
      "outputs": [
        {
          "output_type": "stream",
          "name": "stdout",
          "text": [
            "Len of word2idx is 210337\n"
          ]
        }
      ]
    },
    {
      "cell_type": "code",
      "source": [
        "data = pad_sequences(sequences, maxlen = MAX_SEQUENCE_LEN)\n",
        "print(f'Check data shape :> {data.shape} << N x T')"
      ],
      "metadata": {
        "id": "mG6cpzeYn8Vt",
        "colab": {
          "base_uri": "https://localhost:8080/"
        },
        "outputId": "520bf6a1-2c23-4b68-cf4b-e8c03f23b665"
      },
      "execution_count": 17,
      "outputs": [
        {
          "output_type": "stream",
          "name": "stdout",
          "text": [
            "Check data shape :> (159571, 100) << N x T\n"
          ]
        }
      ]
    },
    {
      "cell_type": "code",
      "source": [
        "print('Filling Pretrained Embeddings')\n",
        "num_words = min(MAX_VOCAB_SIZE, len(word2idx) + 1)\n",
        "embeddingMatrix = np.zeros((num_words, EMBEDDING_DIM ))\n",
        "for word, i in word2idx.items():\n",
        "  if i < MAX_VOCAB_SIZE:\n",
        "    embeddingVectors = word2vec.get(word)\n",
        "    if embeddingVectors is not None:\n",
        "      embeddingMatrix[i] = embeddingVectors"
      ],
      "metadata": {
        "id": "wfMPrBb_oYcn",
        "colab": {
          "base_uri": "https://localhost:8080/"
        },
        "outputId": "f11ee3b7-d652-4ecb-e726-66842cc9a618"
      },
      "execution_count": 18,
      "outputs": [
        {
          "output_type": "stream",
          "name": "stdout",
          "text": [
            "Filling Pretrained Embeddings\n"
          ]
        }
      ]
    },
    {
      "cell_type": "code",
      "source": [
        "embedding_layer = Embedding(\n",
        "    num_words,                      #V\n",
        "    EMBEDDING_DIM,                  #T\n",
        "    weights = [embeddingMatrix],    #transfer learning part\n",
        "    input_length = MAX_SEQUENCE_LEN, #\n",
        "    trainable = False\n",
        ")"
      ],
      "metadata": {
        "id": "y3wBQB2WpXqi"
      },
      "execution_count": 19,
      "outputs": []
    },
    {
      "cell_type": "code",
      "source": [
        "i = Input(shape = (MAX_SEQUENCE_LEN,))        \n",
        "el = embedding_layer(i)\n",
        "lstm = LSTM(10, return_sequences=True)(el)\n",
        "gmax = GlobalMaxPooling1D()(lstm)\n",
        "output = Dense(len(labels),activation='sigmoid')(gmax)"
      ],
      "metadata": {
        "id": "m7XfHM82fHPz"
      },
      "execution_count": 20,
      "outputs": []
    },
    {
      "cell_type": "code",
      "source": [
        "i = Input(shape = (MAX_SEQUENCE_LEN,))        \n",
        "el = embedding_layer(i)\n",
        "lstm = Bidirectional(LSTM(10, return_sequences=True))(el)\n",
        "gmax = GlobalMaxPooling1D()(lstm)\n",
        "output = Dense(len(labels),activation='sigmoid')(gmax)"
      ],
      "metadata": {
        "id": "mpZ5I-QUWqZc"
      },
      "execution_count": 28,
      "outputs": []
    },
    {
      "cell_type": "code",
      "source": [
        "model = Model(i, output)\n",
        "model.compile(loss = 'binary_crossentropy', optimizer = 'rmsprop', metrics = ['accuracy'])"
      ],
      "metadata": {
        "id": "eeeSgGAxg2KU"
      },
      "execution_count": 29,
      "outputs": []
    },
    {
      "cell_type": "code",
      "source": [
        "r = model.fit(\n",
        "    data, targets, batch_size=BATCH_SIZE, \n",
        "    epochs = EPOCHS, validation_split= VALIDATION_SPLIT\n",
        "    )"
      ],
      "metadata": {
        "id": "xjna8J4MhW51",
        "colab": {
          "base_uri": "https://localhost:8080/"
        },
        "outputId": "8a9ae46a-5c6a-4971-f8a4-b68e88d223fe"
      },
      "execution_count": 30,
      "outputs": [
        {
          "output_type": "stream",
          "name": "stdout",
          "text": [
            "Epoch 1/10\n",
            "998/998 [==============================] - 84s 80ms/step - loss: 0.1245 - accuracy: 0.7781 - val_loss: 0.0632 - val_accuracy: 0.9940\n",
            "Epoch 2/10\n",
            "998/998 [==============================] - 77s 77ms/step - loss: 0.0597 - accuracy: 0.9939 - val_loss: 0.0579 - val_accuracy: 0.9935\n",
            "Epoch 3/10\n",
            "998/998 [==============================] - 80s 80ms/step - loss: 0.0554 - accuracy: 0.9931 - val_loss: 0.0563 - val_accuracy: 0.9928\n",
            "Epoch 4/10\n",
            "998/998 [==============================] - 80s 80ms/step - loss: 0.0532 - accuracy: 0.9922 - val_loss: 0.0544 - val_accuracy: 0.9919\n",
            "Epoch 5/10\n",
            "998/998 [==============================] - 78s 78ms/step - loss: 0.0516 - accuracy: 0.9907 - val_loss: 0.0533 - val_accuracy: 0.9921\n",
            "Epoch 6/10\n",
            "998/998 [==============================] - 80s 80ms/step - loss: 0.0505 - accuracy: 0.9865 - val_loss: 0.0526 - val_accuracy: 0.9877\n",
            "Epoch 7/10\n",
            "998/998 [==============================] - 80s 80ms/step - loss: 0.0496 - accuracy: 0.9826 - val_loss: 0.0517 - val_accuracy: 0.9883\n",
            "Epoch 8/10\n",
            "998/998 [==============================] - 79s 79ms/step - loss: 0.0487 - accuracy: 0.9810 - val_loss: 0.0515 - val_accuracy: 0.9723\n",
            "Epoch 9/10\n",
            "998/998 [==============================] - 80s 80ms/step - loss: 0.0479 - accuracy: 0.9732 - val_loss: 0.0519 - val_accuracy: 0.9545\n",
            "Epoch 10/10\n",
            "998/998 [==============================] - 78s 78ms/step - loss: 0.0473 - accuracy: 0.9652 - val_loss: 0.0507 - val_accuracy: 0.9663\n"
          ]
        }
      ]
    },
    {
      "cell_type": "code",
      "source": [
        "plt.title('LSTM - 10')\n",
        "plt.plot(r.history['loss'], label = 'Training Loss')\n",
        "plt.plot(r.history['val_loss'], label = 'Validation Loss')\n",
        "plt.legend()\n",
        "plt.show()"
      ],
      "metadata": {
        "colab": {
          "base_uri": "https://localhost:8080/",
          "height": 281
        },
        "id": "qtfdlcN3h1q1",
        "outputId": "389b7ada-55a1-4ce8-d0f1-1b09a78539d8"
      },
      "execution_count": 26,
      "outputs": [
        {
          "output_type": "display_data",
          "data": {
            "text/plain": [
              "<Figure size 432x288 with 1 Axes>"
            ],
            "image/png": "[encoded data removed]"
          },
          "metadata": {
            "needs_background": "light"
          }
        }
      ]
    },
    {
      "cell_type": "code",
      "source": [
        "plt.title('LSTM - 10')\n",
        "plt.plot(r.history['accuracy'], label = 'Training Accuracy')\n",
        "plt.plot(r.history['val_accuracy'], label = 'Validation Accuracy')\n",
        "plt.legend()\n",
        "plt.show()"
      ],
      "metadata": {
        "colab": {
          "base_uri": "https://localhost:8080/",
          "height": 281
        },
        "id": "iVN3Q2loiMJX",
        "outputId": "0843e482-a0cf-442d-9143-a3602630b93b"
      },
      "execution_count": 27,
      "outputs": [
        {
          "output_type": "display_data",
          "data": {
            "text/plain": [
              "<Figure size 432x288 with 1 Axes>"
            ],
            "image/png": "[encoded data removed]"
          },
          "metadata": {
            "needs_background": "light"
          }
        }
      ]
    },
    {
      "cell_type": "code",
      "source": [
        "plt.title('Bidirectional LSTM - 10')\n",
        "plt.plot(r.history['loss'], label = 'Training Loss')\n",
        "plt.plot(r.history['val_loss'], label = 'Validation Loss')\n",
        "plt.legend()\n",
        "plt.show()"
      ],
      "metadata": {
        "colab": {
          "base_uri": "https://localhost:8080/",
          "height": 281
        },
        "id": "B7hWHLgpW4yr",
        "outputId": "7f366f13-29de-4f56-d733-2a2cad904048"
      },
      "execution_count": 31,
      "outputs": [
        {
          "output_type": "display_data",
          "data": {
            "text/plain": [
              "<Figure size 432x288 with 1 Axes>"
            ],
            "image/png": "[encoded data removed]"
          },
          "metadata": {
            "needs_background": "light"
          }
        }
      ]
    },
    {
      "cell_type": "code",
      "source": [
        "plt.title('Bidirectional LSTM - 10')\n",
        "plt.plot(r.history['accuracy'], label = 'Training Accuracy')\n",
        "plt.plot(r.history['val_accuracy'], label = 'Validation Accuracy')\n",
        "plt.legend()\n",
        "plt.show()"
      ],
      "metadata": {
        "colab": {
          "base_uri": "https://localhost:8080/",
          "height": 281
        },
        "id": "z9CH0dW3W40z",
        "outputId": "33b84ae7-4d23-4430-b3a6-ab94e86f6457"
      },
      "execution_count": 32,
      "outputs": [
        {
          "output_type": "display_data",
          "data": {
            "text/plain": [
              "<Figure size 432x288 with 1 Axes>"
            ],
            "image/png": "[encoded data removed]"
          },
          "metadata": {
            "needs_background": "light"
          }
        }
      ]
    },
    {
      "cell_type": "code",
      "source": [
        "p = model.predict(data)\n",
        "aucs = []\n",
        "for i in range(6):\n",
        "  auc = roc_auc_score( targets[:,i], data[:,i] )\n",
        "  aucs.append(auc)\n",
        "print(np.mean(aucs))"
      ],
      "metadata": {
        "colab": {
          "base_uri": "https://localhost:8080/"
        },
        "id": "3wRh0d_1iRXX",
        "outputId": "ae1b601c-7bef-41ab-9e35-df1ef8bd5346"
      },
      "execution_count": 33,
      "outputs": [
        {
          "output_type": "stream",
          "name": "stdout",
          "text": [
            "0.460302438216096\n"
          ]
        }
      ]
    },
    {
      "cell_type": "code",
      "source": [
        ""
      ],
      "metadata": {
        "id": "4BXdTEFxtJyg"
      },
      "execution_count": null,
      "outputs": []
    }
  ]
}